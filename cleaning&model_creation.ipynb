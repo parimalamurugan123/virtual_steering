{
 "cells": [
  {
   "cell_type": "code",
   "execution_count": 13,
   "id": "d2d90c5c-60f1-4432-b493-6937804187fd",
   "metadata": {},
   "outputs": [
    {
     "name": "stdout",
     "output_type": "stream",
     "text": [
      " Skipping unreadable file: gesture_dataset\\left\\.ipynb_checkpoints\n",
      " All readable images loaded!\n",
      "Total samples: 838\n"
     ]
    }
   ],
   "source": [
    "import cv2\n",
    "import os\n",
    "import numpy as np\n",
    "\n",
    "dataset_path = 'gesture_dataset'\n",
    "classes = ['left', 'right', 'straight', 'stop']\n",
    "data_X = []\n",
    "data_Y = []\n",
    "\n",
    "for label, class_name in enumerate(classes):\n",
    "    folder_path = os.path.join(dataset_path, class_name)\n",
    "    for file_name in os.listdir(folder_path):\n",
    "        img_path = os.path.join(folder_path, file_name)\n",
    "        \n",
    "        # Read and check if the image is loaded\n",
    "        image = cv2.imread(img_path)\n",
    "        if image is None:\n",
    "            print(f\" Skipping unreadable file: {img_path}\")\n",
    "            continue\n",
    "        \n",
    "        # Resize and store\n",
    "        image = cv2.resize(image, (64, 64))\n",
    "        data_X.append(image)\n",
    "        data_Y.append(label)\n",
    "\n",
    "print(\" All readable images loaded!\")\n",
    "print(f\"Total samples: {len(data_X)}\")\n"
   ]
  },
  {
   "cell_type": "code",
   "execution_count": 14,
   "id": "7d84d512-0a88-4560-96a7-c6700539c6bc",
   "metadata": {
    "scrolled": true
   },
   "outputs": [],
   "source": [
    "# !pip install scikit-learn\n",
    "# !pip install tensorflow"
   ]
  },
  {
   "cell_type": "code",
   "execution_count": 15,
   "id": "9db58189-6e6e-4f24-bb34-a581a0de206a",
   "metadata": {},
   "outputs": [],
   "source": [
    "from sklearn.model_selection import train_test_split\n",
    "from tensorflow.keras.utils import to_categorical\n",
    "import numpy as np\n",
    "\n",
    "# Convert to numpy arrays\n",
    "X = np.array(data_X)\n",
    "y = np.array(data_Y)\n",
    "\n",
    "# Normalize image data\n",
    "X = X / 255.0\n",
    "\n",
    "# Split data into training and testing sets (80% training, 20% testing)\n",
    "X_train, X_test, y_train, y_test = train_test_split(X, y, test_size=0.2, random_state=42)\n",
    "\n",
    "# One-hot encode the labels\n",
    "y_train = to_categorical(y_train, num_classes=4)\n",
    "y_test = to_categorical(y_test, num_classes=4)\n",
    "\n"
   ]
  },
  {
   "cell_type": "code",
   "execution_count": 19,
   "id": "64268ef2-90f4-4f5e-aee6-9d3c000bd380",
   "metadata": {},
   "outputs": [
    {
     "name": "stdout",
     "output_type": "stream",
     "text": [
      "X_train shape: (670, 128, 128, 3)\n",
      "X_test shape: (168, 128, 128, 3)\n",
      "Epoch 1/10\n",
      "\u001b[1m21/21\u001b[0m \u001b[32m━━━━━━━━━━━━━━━━━━━━\u001b[0m\u001b[37m\u001b[0m \u001b[1m6s\u001b[0m 270ms/step - accuracy: 0.9923 - loss: 0.0151 - val_accuracy: 1.0000 - val_loss: 0.0024\n",
      "Epoch 2/10\n",
      "\u001b[1m21/21\u001b[0m \u001b[32m━━━━━━━━━━━━━━━━━━━━\u001b[0m\u001b[37m\u001b[0m \u001b[1m6s\u001b[0m 268ms/step - accuracy: 0.9930 - loss: 0.0106 - val_accuracy: 1.0000 - val_loss: 4.7656e-04\n",
      "Epoch 3/10\n",
      "\u001b[1m21/21\u001b[0m \u001b[32m━━━━━━━━━━━━━━━━━━━━\u001b[0m\u001b[37m\u001b[0m \u001b[1m6s\u001b[0m 261ms/step - accuracy: 0.9962 - loss: 0.0095 - val_accuracy: 0.9940 - val_loss: 0.0257\n",
      "Epoch 4/10\n",
      "\u001b[1m21/21\u001b[0m \u001b[32m━━━━━━━━━━━━━━━━━━━━\u001b[0m\u001b[37m\u001b[0m \u001b[1m6s\u001b[0m 260ms/step - accuracy: 1.0000 - loss: 0.0018 - val_accuracy: 1.0000 - val_loss: 0.0033\n",
      "Epoch 5/10\n",
      "\u001b[1m21/21\u001b[0m \u001b[32m━━━━━━━━━━━━━━━━━━━━\u001b[0m\u001b[37m\u001b[0m \u001b[1m11s\u001b[0m 266ms/step - accuracy: 1.0000 - loss: 7.9843e-04 - val_accuracy: 0.9940 - val_loss: 0.0096\n",
      "Epoch 6/10\n",
      "\u001b[1m21/21\u001b[0m \u001b[32m━━━━━━━━━━━━━━━━━━━━\u001b[0m\u001b[37m\u001b[0m \u001b[1m6s\u001b[0m 267ms/step - accuracy: 0.9977 - loss: 0.0048 - val_accuracy: 1.0000 - val_loss: 0.0012\n",
      "Epoch 7/10\n",
      "\u001b[1m21/21\u001b[0m \u001b[32m━━━━━━━━━━━━━━━━━━━━\u001b[0m\u001b[37m\u001b[0m \u001b[1m6s\u001b[0m 262ms/step - accuracy: 1.0000 - loss: 0.0028 - val_accuracy: 0.9940 - val_loss: 0.0056\n",
      "Epoch 8/10\n",
      "\u001b[1m21/21\u001b[0m \u001b[32m━━━━━━━━━━━━━━━━━━━━\u001b[0m\u001b[37m\u001b[0m \u001b[1m6s\u001b[0m 264ms/step - accuracy: 1.0000 - loss: 5.2380e-04 - val_accuracy: 1.0000 - val_loss: 0.0018\n",
      "Epoch 9/10\n",
      "\u001b[1m21/21\u001b[0m \u001b[32m━━━━━━━━━━━━━━━━━━━━\u001b[0m\u001b[37m\u001b[0m \u001b[1m6s\u001b[0m 263ms/step - accuracy: 1.0000 - loss: 4.0345e-04 - val_accuracy: 0.9940 - val_loss: 0.0085\n",
      "Epoch 10/10\n",
      "\u001b[1m21/21\u001b[0m \u001b[32m━━━━━━━━━━━━━━━━━━━━\u001b[0m\u001b[37m\u001b[0m \u001b[1m5s\u001b[0m 257ms/step - accuracy: 1.0000 - loss: 3.5698e-04 - val_accuracy: 1.0000 - val_loss: 4.2198e-04\n"
     ]
    },
    {
     "name": "stderr",
     "output_type": "stream",
     "text": [
      "WARNING:absl:You are saving your model as an HDF5 file via `model.save()` or `keras.saving.save_model(model)`. This file format is considered legacy. We recommend using instead the native Keras format, e.g. `model.save('my_model.keras')` or `keras.saving.save_model(model, 'my_model.keras')`. \n"
     ]
    },
    {
     "name": "stdout",
     "output_type": "stream",
     "text": [
      "Model Trained and Saved\n",
      "\u001b[1m6/6\u001b[0m \u001b[32m━━━━━━━━━━━━━━━━━━━━\u001b[0m\u001b[37m\u001b[0m \u001b[1m0s\u001b[0m 70ms/step - accuracy: 0.9974 - loss: 0.0027\n",
      "Test Loss: 0.0060\n",
      "Test Accuracy: 0.9940\n"
     ]
    }
   ],
   "source": [
    "import tensorflow as tf\n",
    "\n",
    "# Resize the images to (128, 128)\n",
    "X_train_resized = tf.image.resize(X_train, (128, 128))\n",
    "X_test_resized = tf.image.resize(X_test, (128, 128))\n",
    "\n",
    "# Ensure your validation data (X_val) is already in the correct shape (128, 128, 3)\n",
    "print(f\"X_train shape: {X_train_resized.shape}\")  # Should be (670, 128, 128, 3)\n",
    "print(f\"X_test shape: {X_test_resized.shape}\")   # Should be (168, 128, 128, 3)\n",
    "\n",
    "# Now you can train the model\n",
    "model.fit(X_train_resized, y_train, validation_data=(X_val, y_val), epochs=10, batch_size=32)\n",
    "\n",
    "# Save the trained model\n",
    "model.save('gesture_model.h5')\n",
    "\n",
    "print(\"Model Trained and Saved\")\n",
    "\n",
    "# After training, evaluate the model on test data\n",
    "test_loss, test_accuracy = model.evaluate(X_test_resized, y_test)\n",
    "print(f\"Test Loss: {test_loss:.4f}\")\n",
    "print(f\"Test Accuracy: {test_accuracy:.4f}\")\n"
   ]
  },
  {
   "cell_type": "code",
   "execution_count": null,
   "id": "2bb48a96-7a04-486f-a793-1f1e351dd416",
   "metadata": {},
   "outputs": [],
   "source": []
  }
 ],
 "metadata": {
  "kernelspec": {
   "display_name": "Python 3 (ipykernel)",
   "language": "python",
   "name": "python3"
  },
  "language_info": {
   "codemirror_mode": {
    "name": "ipython",
    "version": 3
   },
   "file_extension": ".py",
   "mimetype": "text/x-python",
   "name": "python",
   "nbconvert_exporter": "python",
   "pygments_lexer": "ipython3",
   "version": "3.12.8"
  }
 },
 "nbformat": 4,
 "nbformat_minor": 5
}

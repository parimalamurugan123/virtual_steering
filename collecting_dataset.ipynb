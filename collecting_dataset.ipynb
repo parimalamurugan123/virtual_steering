{
 "cells": [
  {
   "cell_type": "code",
   "execution_count": 2,
   "id": "2824b93f",
   "metadata": {},
   "outputs": [
    {
     "name": "stdout",
     "output_type": "stream",
     "text": [
      "Starting automated dataset collection...\n",
      "Will capture 200 images for each gesture with a 2s interval.\n",
      "Press 'q' in the window to abort at any time.\n",
      "\n",
      "Prepare to capture gesture: 'left'. Starting in 3 seconds...\n",
      "Finished capturing 'left' gesture.\n",
      "\n",
      "Prepare to capture gesture: 'right'. Starting in 3 seconds...\n",
      "Finished capturing 'right' gesture.\n",
      "\n",
      "Prepare to capture gesture: 'straight'. Starting in 3 seconds...\n",
      "Finished capturing 'straight' gesture.\n",
      "\n",
      "Prepare to capture gesture: 'stop'. Starting in 3 seconds...\n",
      "Finished capturing 'stop' gesture.\n",
      "\n",
      "Dataset collection complete!\n"
     ]
    }
   ],
   "source": [
    "import cv2\n",
    "import os\n",
    "import time\n",
    "\n",
    "# Configuration\n",
    "gestures = ['left', 'right', 'straight', 'stop']\n",
    "images_per_gesture = 200\n",
    "capture_interval = 2  # seconds between captures\n",
    "\n",
    "dataset_path = 'gesture_dataset'\n",
    "# Create directories for each gesture\n",
    "for gesture in gestures:\n",
    "    os.makedirs(os.path.join(dataset_path, gesture), exist_ok=True)\n",
    "\n",
    "# Initialize webcam\n",
    "cap = cv2.VideoCapture(0)\n",
    "cap.set(cv2.CAP_PROP_FRAME_WIDTH, 640)\n",
    "cap.set(cv2.CAP_PROP_FRAME_HEIGHT, 480)\n",
    "\n",
    "print(\"Starting automated dataset collection...\")\n",
    "print(f\"Will capture {images_per_gesture} images for each gesture with a {capture_interval}s interval.\")\n",
    "print(\"Press 'q' in the window to abort at any time.\")\n",
    "\n",
    "try:\n",
    "    for gesture in gestures:\n",
    "        print(f\"\\nPrepare to capture gesture: '{gesture}'. Starting in 3 seconds...\")\n",
    "        time.sleep(3)\n",
    "        count = 0\n",
    "        while count < images_per_gesture:\n",
    "            ret, frame = cap.read()\n",
    "            if not ret:\n",
    "                print(\"Failed to grab frame, retrying...\")\n",
    "                continue\n",
    "\n",
    "            frame = cv2.flip(frame, 1)\n",
    "            # Overlay text\n",
    "            cv2.putText(frame, f\"Gesture: {gesture} ({count+1}/{images_per_gesture})\", \n",
    "                        (10, 30), cv2.FONT_HERSHEY_SIMPLEX, 1, (0, 255, 0), 2)\n",
    "            cv2.imshow(\"Automated Capture\", frame)\n",
    "\n",
    "            # Save image\n",
    "            save_dir = os.path.join(dataset_path, gesture)\n",
    "            filename = f\"{gesture}_{count:03d}.jpg\"\n",
    "            cv2.imwrite(os.path.join(save_dir, filename), frame)\n",
    "            count += 1\n",
    "\n",
    "            # Wait for interval or abort\n",
    "            start = time.time()\n",
    "            while time.time() - start < capture_interval:\n",
    "                if cv2.waitKey(1) & 0xFF == ord('q'):\n",
    "                    raise KeyboardInterrupt\n",
    "\n",
    "        print(f\"Finished capturing '{gesture}' gesture.\")\n",
    "\n",
    "    print(\"\\nDataset collection complete!\")\n",
    "finally:\n",
    "    cap.release()\n",
    "    cv2.destroyAllWindows()\n"
   ]
  },
  {
   "cell_type": "code",
   "execution_count": null,
   "id": "2ebb03a9",
   "metadata": {},
   "outputs": [],
   "source": []
  }
 ],
 "metadata": {
  "kernelspec": {
   "display_name": "Python 3 (ipykernel)",
   "language": "python",
   "name": "python3"
  },
  "language_info": {
   "codemirror_mode": {
    "name": "ipython",
    "version": 3
   },
   "file_extension": ".py",
   "mimetype": "text/x-python",
   "name": "python",
   "nbconvert_exporter": "python",
   "pygments_lexer": "ipython3",
   "version": "3.12.8"
  }
 },
 "nbformat": 4,
 "nbformat_minor": 5
}
